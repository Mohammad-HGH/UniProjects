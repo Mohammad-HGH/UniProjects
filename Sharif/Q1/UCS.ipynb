{
 "cells": [
  {
   "cell_type": "code",
   "execution_count": 1,
   "metadata": {},
   "outputs": [],
   "source": [
    "class Node(object):\n",
    "    \"\"\"This class represents a node in a graph.\"\"\"\n",
    "    \n",
    "    def __init__(self, label: str=None):\n",
    "        \"\"\"\n",
    "        Initialize a new node.\n",
    "        \n",
    "        Args:\n",
    "            label: the string identifier for the node\n",
    "        \"\"\"\n",
    "        self.label = label\n",
    "        self.children = []\n",
    "        \n",
    "    def __lt__(self,other):\n",
    "        \"\"\"\n",
    "        Perform the less than operation (self < other).\n",
    "        \n",
    "        Args:\n",
    "            other: the other Node to compare to\n",
    "        \"\"\"\n",
    "        return (self.label < other.label)\n",
    "    \n",
    "    def __gt__(self,other):\n",
    "        \"\"\"\n",
    "        Perform the greater than operation (self > other).\n",
    "        \n",
    "        Args:\n",
    "            other: the other Node to compare to\n",
    "        \"\"\"\n",
    "        return (self.label > other.label)\n",
    "    \n",
    "    def __repr__(self):\n",
    "        \"\"\"Return a string form of this node.\"\"\"\n",
    "        return '{} -> {}'.format(self.label, self.children)\n",
    "    \n",
    "    def add_child(self, node, cost=1):\n",
    "        \"\"\"\n",
    "        Add a child node to this node.\n",
    "        \n",
    "        Args:\n",
    "            node: the node to add to the children\n",
    "            cost: the cost of the edge (default 1)\n",
    "        \"\"\"\n",
    "        edge = Edge(self, node, cost)\n",
    "        self.children.append(edge)\n",
    "    \n",
    "    \n",
    "class Edge(object):\n",
    "    \"\"\"This class represents an edge in a graph.\"\"\"\n",
    "    \n",
    "    def __init__(self, source: Node, destination: Node, cost: int=1):\n",
    "        \"\"\"\n",
    "        Initialize a new edge.\n",
    "        \n",
    "        Args:\n",
    "            source: the source of the edge\n",
    "            destination: the destination of the edge\n",
    "            cost: the cost of the edge (default 1)\n",
    "        \"\"\"\n",
    "        self.source = source\n",
    "        self.destination = destination\n",
    "        self.cost = cost\n",
    "    \n",
    "    def __repr__(self):\n",
    "        \"\"\"Return a string form of this edge.\"\"\"\n",
    "        return '{}: {}'.format(self.cost, self.destination.label)"
   ]
  },
  {
   "cell_type": "code",
   "execution_count": 2,
   "metadata": {},
   "outputs": [],
   "source": [
    "S = Node('S')\n",
    "A = Node('A')\n",
    "B = Node('B')\n",
    "C = Node('C')\n",
    "D = Node('D')\n",
    "E = Node('E')\n",
    "G = Node('G')"
   ]
  },
  {
   "cell_type": "code",
   "execution_count": 3,
   "metadata": {},
   "outputs": [],
   "source": [
    "S.add_child(A, 3)\n",
    "S.add_child(G, 16)\n",
    "\n",
    "A.add_child(B, 4)\n",
    "A.add_child(C, 2)\n",
    "\n",
    "B.add_child(D, 1)\n",
    "\n",
    "C.add_child(E, 2)\n",
    "\n",
    "D.add_child(E, 3)\n",
    "\n",
    "E.add_child(G,1)"
   ]
  },
  {
   "cell_type": "code",
   "execution_count": 4,
   "metadata": {},
   "outputs": [
    {
     "name": "stdout",
     "output_type": "stream",
     "text": [
      "S -> [3: A, 16: G]\n",
      "A -> [4: B, 2: C]\n",
      "B -> [1: D]\n",
      "C -> [2: E]\n",
      "D -> [3: E]\n",
      "G -> []\n"
     ]
    }
   ],
   "source": [
    "_ = [print(node) for node in [S, A, B, C, D, G]]"
   ]
  },
  {
   "cell_type": "code",
   "execution_count": 5,
   "metadata": {},
   "outputs": [],
   "source": [
    "from queue import PriorityQueue\n",
    "\n",
    "\n",
    "def ucs(root, goal):\n",
    "    \"\"\"\n",
    "    Return the uniform cost search path from root to gaol.\n",
    "    \n",
    "    Args:\n",
    "        root: the starting node for the search\n",
    "        goal: the goal node for the search\n",
    "        \n",
    "    Returns: a list with the path from root to goal\n",
    "    \n",
    "    Raises: ValueError if goal isn't in the graph\n",
    "    \"\"\"\n",
    "    # create a priority queue of paths\n",
    "    queue = PriorityQueue()\n",
    "    queue.put((0, [root]))\n",
    "    # iterate over the items in the queue\n",
    "    while not queue.empty():\n",
    "        # get the highest priority item\n",
    "        pair = queue.get()\n",
    "        current = pair[1][-1]\n",
    "        # if it's the goal, return\n",
    "        if current.label == goal:\n",
    "            return pair[1]\n",
    "        # add all the edges to the priority queue\n",
    "        for edge in current.children:\n",
    "            # create a new path with the node from the edge\n",
    "            new_path = list(pair[1])\n",
    "            new_path.append(edge.destination)\n",
    "            # append the new path to the queue with the edges priority\n",
    "            queue.put((pair[0] + edge.cost, new_path))"
   ]
  },
  {
   "cell_type": "code",
   "execution_count": 6,
   "metadata": {},
   "outputs": [
    {
     "data": {
      "text/plain": [
       "[S -> [3: A, 16: G], A -> [4: B, 2: C], C -> [2: E], E -> [1: G], G -> []]"
      ]
     },
     "execution_count": 6,
     "metadata": {},
     "output_type": "execute_result"
    }
   ],
   "source": [
    "ucs(S, 'G')"
   ]
  }
 ],
 "metadata": {
  "kernelspec": {
   "display_name": "base",
   "language": "python",
   "name": "python3"
  },
  "language_info": {
   "codemirror_mode": {
    "name": "ipython",
    "version": 3
   },
   "file_extension": ".py",
   "mimetype": "text/x-python",
   "name": "python",
   "nbconvert_exporter": "python",
   "pygments_lexer": "ipython3",
   "version": "3.9.16"
  },
  "orig_nbformat": 4,
  "vscode": {
   "interpreter": {
    "hash": "2c306a1c7566f3b78b51a9625b5469ec01f42d966582576e75df55be6fc52cfb"
   }
  }
 },
 "nbformat": 4,
 "nbformat_minor": 2
}
