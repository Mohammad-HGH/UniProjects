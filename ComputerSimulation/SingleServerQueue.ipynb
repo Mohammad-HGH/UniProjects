{
 "cells": [
  {
   "cell_type": "code",
   "execution_count": 1,
   "id": "2f1f4d16-0a36-403b-8fb5-581f5feba592",
   "metadata": {},
   "outputs": [],
   "source": [
    "from enum import Enum\n",
    "from queue import PriorityQueue\n",
    "from dataclasses import dataclass, field\n",
    "from collections import deque\n",
    "from math import log \n",
    "import random"
   ]
  },
  {
   "cell_type": "code",
   "execution_count": 2,
   "id": "9cc3caaa",
   "metadata": {},
   "outputs": [],
   "source": [
    "@dataclass(order=True)\n",
    "class PrioritizedItem:\n",
    "    priority: float\n",
    "    item: object = field()\n",
    "\n",
    "class EventType(Enum):\n",
    "\tARRIVE = 1\n",
    "\tDEPART = 2\n",
    "\n",
    "def random_exp(mean):\n",
    "\treturn -log(random.uniform(0, 1)) * mean\n",
    "\n",
    "class Event:\n",
    "\tdef __init__(self, type, time):\n",
    "\t\tself.type = type\n",
    "\t\tself.time = time"
   ]
  },
  {
   "cell_type": "code",
   "execution_count": 3,
   "id": "ca212107-e70f-4654-b887-8c330522c405",
   "metadata": {},
   "outputs": [],
   "source": [
    "class SingleServerSimulation:\n",
    "\n",
    "\tdef __init__(self):\n",
    "\t\tself.events = PriorityQueue()\n",
    "\t\tself.users = PriorityQueue()\n",
    "\t\tself.server_status = 0\n",
    "\t\tself.number_in_queue = 0\n",
    "\t\tself.mean_arrival = 1.0\n",
    "\t\tself.mean_service = 1.0\n",
    "\t\tself.departure_count = 0\n",
    "\t\tself.clock = 0.0\n",
    "\t\tself.time_of_last_event = 0.0\n",
    "\t\tself.queue_time = 0.0\n",
    "\t\tself.busy_time = 0.0\n",
    "\t\tself.service_time = 0.0\n",
    "\t\tself.response_time = 0.0\n",
    "\t\tarrive = Event(EventType.ARRIVE, random_exp(self.mean_arrival))\n",
    "\t\tself.events.put(PrioritizedItem(arrive.time, arrive))\n",
    "\n",
    "\tdef add_departure_event(self):\n",
    "\t\tserv_time = random_exp(self.mean_service)\n",
    "\t\tdepart = Event(EventType.DEPART, self.clock + serv_time)\n",
    "\t\tself.service_time += serv_time\n",
    "\t\tself.events.put(PrioritizedItem(depart.time, depart))\n",
    "\t\tself.server_status = 1\n",
    "\t\tself.number_in_queue -= 1\n",
    "\n",
    "\tdef handle_arrival(self, event):\n",
    "\t\tself.users.put(PrioritizedItem(event.time, event))\n",
    "\t\tself.number_in_queue += 1\n",
    "\t\tif (self.server_status == 0):\n",
    "\t\t\tself.add_departure_event()\n",
    "\t\telse:\n",
    "\t\t\tself.busy_time += self.clock - self.time_of_last_event\n",
    "\n",
    "\t\tnext_arrive = Event(EventType.ARRIVE, self.clock + random_exp(self.mean_arrival))\n",
    "\t\tself.events.put(PrioritizedItem(next_arrive.time, next_arrive))\n",
    "\t\tself.time_of_last_event = self.clock\n",
    "\n",
    "\tdef get_wait_time(self):\n",
    "\t\treturn self.busy_time - self.service_time\n",
    "\n",
    "\tdef handle_departure(self, event):\n",
    "\t\tdone = self.users.get().item\n",
    "\n",
    "\t\tif (self.number_in_queue > 0):\n",
    "\t\t\tself.add_departure_event()\n",
    "\t\telse:\n",
    "\t\t\tself.server_status = 0\n",
    "\t\tself.busy_time += (self.clock - self.time_of_last_event)\n",
    "\t\tself.response_time += (self.clock - done.time)\n",
    "\t\tself.time_of_last_event = self.clock\n",
    "\t\tself.departure_count += 1\n",
    "\n",
    "\tdef report(self):\n",
    "\t\tprint('Average response time: {}', self.response_time / self.departure_count if (self.departure_count > 0) else 'N/A')\n",
    "\t\tprint('Total busy time: {}', self.busy_time)\n",
    "\t\tprint('Number of users in queue: {}'.format(self.number_in_queue))\n",
    "\t\tprint('Number of serviced users: {}'.format(self.departure_count))\n",
    "\t\tprint('Server status: {}'.format(self.server_status))"
   ]
  },
  {
   "cell_type": "code",
   "execution_count": 11,
   "id": "fd76205d",
   "metadata": {},
   "outputs": [],
   "source": [
    "def main():\n",
    "\tlimit = 5000\n",
    "\tsimulation = SingleServerSimulation()\n",
    "\t# Config simulation parameters\n",
    "\tsimulation.mean_arrival = 1.0\n",
    "\tsimulation.mean_service = 1.0\n",
    "\n",
    "\twhile simulation.departure_count < limit:\n",
    "\t\tevent = simulation.events.get().item\n",
    "\t\tsimulation.clock = event.time\n",
    "\t\tif (event.type == EventType.ARRIVE):\n",
    "\t\t\tsimulation.handle_arrival(event)\n",
    "\t\telse:\n",
    "\t\t\tsimulation.handle_departure(event)\n",
    "\tsimulation.report()"
   ]
  },
  {
   "cell_type": "code",
   "execution_count": 12,
   "id": "ed9bb0c9",
   "metadata": {},
   "outputs": [
    {
     "name": "stdout",
     "output_type": "stream",
     "text": [
      "Average response time: {} 34.3182634410751\n",
      "Total busy time: {} 4997.990657377934\n",
      "Number of users in queue: 107\n",
      "Number of serviced users: 5000\n",
      "Server status: 1\n"
     ]
    }
   ],
   "source": [
    "main()"
   ]
  },
  {
   "cell_type": "code",
   "execution_count": null,
   "id": "5e2740d0",
   "metadata": {},
   "outputs": [],
   "source": []
  }
 ],
 "metadata": {
  "kernelspec": {
   "display_name": "Python 3 (ipykernel)",
   "language": "python",
   "name": "python3"
  },
  "language_info": {
   "codemirror_mode": {
    "name": "ipython",
    "version": 3
   },
   "file_extension": ".py",
   "mimetype": "text/x-python",
   "name": "python",
   "nbconvert_exporter": "python",
   "pygments_lexer": "ipython3",
   "version": "3.9.12"
  }
 },
 "nbformat": 4,
 "nbformat_minor": 5
}
